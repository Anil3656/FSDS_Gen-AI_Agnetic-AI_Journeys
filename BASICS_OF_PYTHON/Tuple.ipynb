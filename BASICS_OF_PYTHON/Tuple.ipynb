{
 "cells": [
  {
   "cell_type": "code",
   "execution_count": 1,
   "id": "5e4f394a-d4c4-4ce7-a765-c02a53621b2b",
   "metadata": {},
   "outputs": [],
   "source": [
    "t = ()"
   ]
  },
  {
   "cell_type": "code",
   "execution_count": 2,
   "id": "a8f471f3-33e4-4686-9ec9-e1e2094caecc",
   "metadata": {},
   "outputs": [
    {
     "data": {
      "text/plain": [
       "()"
      ]
     },
     "execution_count": 2,
     "metadata": {},
     "output_type": "execute_result"
    }
   ],
   "source": [
    "t"
   ]
  },
  {
   "cell_type": "code",
   "execution_count": 3,
   "id": "2837197a-3bc7-4f5f-9b5e-18df60b9ca3a",
   "metadata": {},
   "outputs": [
    {
     "data": {
      "text/plain": [
       "tuple"
      ]
     },
     "execution_count": 3,
     "metadata": {},
     "output_type": "execute_result"
    }
   ],
   "source": [
    "type(t)"
   ]
  },
  {
   "cell_type": "code",
   "execution_count": 4,
   "id": "40741ed3-b601-4989-aea4-d713653542fc",
   "metadata": {},
   "outputs": [],
   "source": [
    "ti = (10,20,30,50,40,60)"
   ]
  },
  {
   "cell_type": "code",
   "execution_count": 5,
   "id": "77b2466d-2a5c-472c-9fc5-2e21b3ac2952",
   "metadata": {},
   "outputs": [
    {
     "data": {
      "text/plain": [
       "(10, 20, 30, 50, 40, 60)"
      ]
     },
     "execution_count": 5,
     "metadata": {},
     "output_type": "execute_result"
    }
   ],
   "source": [
    "ti"
   ]
  },
  {
   "cell_type": "code",
   "execution_count": 6,
   "id": "61dd4a21-aebb-422a-9d2c-81b43b8688b1",
   "metadata": {},
   "outputs": [],
   "source": [
    "bank = (\"rahul\", 1227226,\"Lwip24\")"
   ]
  },
  {
   "cell_type": "code",
   "execution_count": 7,
   "id": "19f54e56-bd16-4063-bd31-59aabf8a2206",
   "metadata": {},
   "outputs": [
    {
     "data": {
      "text/plain": [
       "('rahul', 1227226, 'Lwip24')"
      ]
     },
     "execution_count": 7,
     "metadata": {},
     "output_type": "execute_result"
    }
   ],
   "source": [
    "bank"
   ]
  },
  {
   "cell_type": "code",
   "execution_count": 8,
   "id": "6fb89f9d-8cf0-4b31-ac2d-dc444120293d",
   "metadata": {},
   "outputs": [
    {
     "ename": "TypeError",
     "evalue": "'tuple' object does not support item assignment",
     "output_type": "error",
     "traceback": [
      "\u001b[1;31m---------------------------------------------------------------------------\u001b[0m",
      "\u001b[1;31mTypeError\u001b[0m                                 Traceback (most recent call last)",
      "Cell \u001b[1;32mIn[8], line 1\u001b[0m\n\u001b[1;32m----> 1\u001b[0m bank[\u001b[38;5;241m0\u001b[39m] \u001b[38;5;241m=\u001b[39m \u001b[38;5;124m'\u001b[39m\u001b[38;5;124mRahul\u001b[39m\u001b[38;5;124m'\u001b[39m\n",
      "\u001b[1;31mTypeError\u001b[0m: 'tuple' object does not support item assignment"
     ]
    }
   ],
   "source": [
    "bank[0] = 'Rahul'"
   ]
  },
  {
   "cell_type": "code",
   "execution_count": 11,
   "id": "f1f82f3c-62e9-4a35-8c8f-860e4d7d9b3a",
   "metadata": {},
   "outputs": [
    {
     "data": {
      "text/plain": [
       "10"
      ]
     },
     "execution_count": 11,
     "metadata": {},
     "output_type": "execute_result"
    }
   ],
   "source": [
    "ti[0]"
   ]
  },
  {
   "cell_type": "code",
   "execution_count": 12,
   "id": "ff8eaffb-e7ed-4049-ba2d-64c74e3942b5",
   "metadata": {},
   "outputs": [
    {
     "name": "stdout",
     "output_type": "stream",
     "text": [
      "(0, 10)\n",
      "(1, 20)\n",
      "(2, 30)\n",
      "(3, 50)\n",
      "(4, 40)\n",
      "(5, 60)\n"
     ]
    }
   ],
   "source": [
    "for i  in enumerate(ti):\n",
    "    print(i)"
   ]
  },
  {
   "cell_type": "code",
   "execution_count": 13,
   "id": "f3330b0d-c0a6-4782-b77b-3f0a26ae4c99",
   "metadata": {},
   "outputs": [
    {
     "data": {
      "text/plain": [
       "1"
      ]
     },
     "execution_count": 13,
     "metadata": {},
     "output_type": "execute_result"
    }
   ],
   "source": [
    "ti.count(10)"
   ]
  },
  {
   "cell_type": "code",
   "execution_count": 14,
   "id": "ce8fdbc0-b803-42ea-b1bc-c9bb58221c0f",
   "metadata": {},
   "outputs": [
    {
     "data": {
      "text/plain": [
       "1"
      ]
     },
     "execution_count": 14,
     "metadata": {},
     "output_type": "execute_result"
    }
   ],
   "source": [
    "ti.index(20)"
   ]
  },
  {
   "cell_type": "code",
   "execution_count": 16,
   "id": "d43879b6-4931-4c33-9d25-246ba06b1dd1",
   "metadata": {},
   "outputs": [
    {
     "name": "stdout",
     "output_type": "stream",
     "text": [
      "10\n",
      "20\n",
      "30\n",
      "50\n",
      "40\n",
      "60\n"
     ]
    }
   ],
   "source": [
    "for ele in ti:\n",
    "    print(ele)"
   ]
  },
  {
   "cell_type": "code",
   "execution_count": 2,
   "id": "b5a9fb89-b623-4be1-9e40-736237cf166e",
   "metadata": {},
   "outputs": [],
   "source": [
    "t = (10, 20, 30, 50, 40, 60)"
   ]
  },
  {
   "cell_type": "code",
   "execution_count": 3,
   "id": "f1e7218c-d721-40e6-b262-b565bdf6bf02",
   "metadata": {},
   "outputs": [
    {
     "data": {
      "text/plain": [
       "(10, 20, 30, 50, 40, 60)"
      ]
     },
     "execution_count": 3,
     "metadata": {},
     "output_type": "execute_result"
    }
   ],
   "source": [
    "t"
   ]
  },
  {
   "cell_type": "code",
   "execution_count": 5,
   "id": "f7dbcf33-3b82-45c1-8208-48fffd64f629",
   "metadata": {},
   "outputs": [
    {
     "data": {
      "text/plain": [
       "1"
      ]
     },
     "execution_count": 5,
     "metadata": {},
     "output_type": "execute_result"
    }
   ],
   "source": [
    "t.count(30)"
   ]
  },
  {
   "cell_type": "code",
   "execution_count": 6,
   "id": "8c5f649f-108d-4fb7-b660-be630a517e92",
   "metadata": {},
   "outputs": [
    {
     "data": {
      "text/plain": [
       "5"
      ]
     },
     "execution_count": 6,
     "metadata": {},
     "output_type": "execute_result"
    }
   ],
   "source": [
    "t.index(60)"
   ]
  },
  {
   "cell_type": "code",
   "execution_count": null,
   "id": "cc5c16af-8146-453d-ab0b-d47bb9cf0448",
   "metadata": {},
   "outputs": [],
   "source": []
  }
 ],
 "metadata": {
  "kernelspec": {
   "display_name": "Python [conda env:base] *",
   "language": "python",
   "name": "conda-base-py"
  },
  "language_info": {
   "codemirror_mode": {
    "name": "ipython",
    "version": 3
   },
   "file_extension": ".py",
   "mimetype": "text/x-python",
   "name": "python",
   "nbconvert_exporter": "python",
   "pygments_lexer": "ipython3",
   "version": "3.12.7"
  }
 },
 "nbformat": 4,
 "nbformat_minor": 5
}
