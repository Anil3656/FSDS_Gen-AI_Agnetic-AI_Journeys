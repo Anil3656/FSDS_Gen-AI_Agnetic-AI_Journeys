{
 "cells": [
  {
   "cell_type": "code",
   "execution_count": 1,
   "id": "4f0fdb0f-3256-4bb5-b58b-185c615cd037",
   "metadata": {},
   "outputs": [
    {
     "data": {
      "text/plain": [
       "[]"
      ]
     },
     "execution_count": 1,
     "metadata": {},
     "output_type": "execute_result"
    }
   ],
   "source": [
    "l = []\n",
    "l"
   ]
  },
  {
   "cell_type": "code",
   "execution_count": 2,
   "id": "0c9a033d-eee4-4fbc-a1c4-21d862abd809",
   "metadata": {},
   "outputs": [
    {
     "data": {
      "text/plain": [
       "0"
      ]
     },
     "execution_count": 2,
     "metadata": {},
     "output_type": "execute_result"
    }
   ],
   "source": [
    "len(l)"
   ]
  },
  {
   "cell_type": "code",
   "execution_count": 3,
   "id": "e887b132-71e7-4299-9698-4c06b5f6c9d2",
   "metadata": {},
   "outputs": [],
   "source": [
    "l.append(10)\n",
    "l.append(20)\n",
    "l.append(30)\n",
    "l.append(40)"
   ]
  },
  {
   "cell_type": "code",
   "execution_count": 4,
   "id": "a2b75f6a-bdc6-4636-b723-fe474f826b3f",
   "metadata": {},
   "outputs": [
    {
     "data": {
      "text/plain": [
       "[10, 20, 30, 40]"
      ]
     },
     "execution_count": 4,
     "metadata": {},
     "output_type": "execute_result"
    }
   ],
   "source": [
    "l"
   ]
  },
  {
   "cell_type": "code",
   "execution_count": 5,
   "id": "1e405c8a-1dcd-497f-9318-c94cf056caff",
   "metadata": {},
   "outputs": [
    {
     "data": {
      "text/plain": [
       "10"
      ]
     },
     "execution_count": 5,
     "metadata": {},
     "output_type": "execute_result"
    }
   ],
   "source": [
    "l[0]"
   ]
  },
  {
   "cell_type": "code",
   "execution_count": 6,
   "id": "810d861e-3d98-4aff-9c31-c640afb90d80",
   "metadata": {},
   "outputs": [],
   "source": [
    "l[0] = 100"
   ]
  },
  {
   "cell_type": "code",
   "execution_count": 7,
   "id": "3fad85f7-0f9d-4a94-a2bc-3f4527b93223",
   "metadata": {},
   "outputs": [
    {
     "data": {
      "text/plain": [
       "[100, 20, 30, 40]"
      ]
     },
     "execution_count": 7,
     "metadata": {},
     "output_type": "execute_result"
    }
   ],
   "source": [
    "l"
   ]
  },
  {
   "cell_type": "code",
   "execution_count": 8,
   "id": "598029a4-bd5e-443a-8fe8-37afc4b5b36b",
   "metadata": {},
   "outputs": [],
   "source": [
    "l[-1] = 140"
   ]
  },
  {
   "cell_type": "code",
   "execution_count": 9,
   "id": "eead39e5-955c-4ed8-b31b-f93238df57a7",
   "metadata": {},
   "outputs": [
    {
     "data": {
      "text/plain": [
       "[100, 20, 30, 140]"
      ]
     },
     "execution_count": 9,
     "metadata": {},
     "output_type": "execute_result"
    }
   ],
   "source": [
    "l"
   ]
  },
  {
   "cell_type": "code",
   "execution_count": 10,
   "id": "ee97c2e7-045a-429c-8add-5e27522afb17",
   "metadata": {},
   "outputs": [],
   "source": [
    "l1 = l.copy()"
   ]
  },
  {
   "cell_type": "code",
   "execution_count": 11,
   "id": "c51c83aa-eb3c-4f56-8d0b-4db67ad9ddca",
   "metadata": {},
   "outputs": [
    {
     "data": {
      "text/plain": [
       "[100, 20, 30, 140]"
      ]
     },
     "execution_count": 11,
     "metadata": {},
     "output_type": "execute_result"
    }
   ],
   "source": [
    "l"
   ]
  },
  {
   "cell_type": "code",
   "execution_count": 13,
   "id": "d249a1bc-bbb9-4d34-b57d-b3679a6a3058",
   "metadata": {},
   "outputs": [
    {
     "name": "stdout",
     "output_type": "stream",
     "text": [
      "[100, 20, 30, 140]\n",
      "[100, 20, 30, 140]\n"
     ]
    }
   ],
   "source": [
    "print(l)\n",
    "print(l1)"
   ]
  },
  {
   "cell_type": "code",
   "execution_count": 14,
   "id": "43f7c329-40f1-495d-bca8-8ed91f3062b9",
   "metadata": {},
   "outputs": [
    {
     "data": {
      "text/plain": [
       "True"
      ]
     },
     "execution_count": 14,
     "metadata": {},
     "output_type": "execute_result"
    }
   ],
   "source": [
    "l == l1"
   ]
  },
  {
   "cell_type": "code",
   "execution_count": 15,
   "id": "cd6c39c0-ffd3-42af-b643-bfe1ac01d8b8",
   "metadata": {},
   "outputs": [
    {
     "data": {
      "text/plain": [
       "False"
      ]
     },
     "execution_count": 15,
     "metadata": {},
     "output_type": "execute_result"
    }
   ],
   "source": [
    "id(l) == id(l1)"
   ]
  },
  {
   "cell_type": "code",
   "execution_count": 16,
   "id": "b9f2c7d4-3b50-4f5d-81d7-b95564e6421d",
   "metadata": {},
   "outputs": [
    {
     "data": {
      "text/plain": [
       "True"
      ]
     },
     "execution_count": 16,
     "metadata": {},
     "output_type": "execute_result"
    }
   ],
   "source": [
    "id(l) != id(l1)"
   ]
  },
  {
   "cell_type": "code",
   "execution_count": 17,
   "id": "35a32d6c-819d-43da-aeaa-11c433f41955",
   "metadata": {},
   "outputs": [
    {
     "data": {
      "text/plain": [
       "[100, 20, 30, 140]"
      ]
     },
     "execution_count": 17,
     "metadata": {},
     "output_type": "execute_result"
    }
   ],
   "source": [
    "l"
   ]
  },
  {
   "cell_type": "code",
   "execution_count": 18,
   "id": "80d29c04-1e09-479a-b0f4-41c329350502",
   "metadata": {},
   "outputs": [
    {
     "data": {
      "text/plain": [
       "1"
      ]
     },
     "execution_count": 18,
     "metadata": {},
     "output_type": "execute_result"
    }
   ],
   "source": [
    "l.count(20)"
   ]
  },
  {
   "cell_type": "code",
   "execution_count": 19,
   "id": "38f1f1ab-28c1-4705-81e1-89b84d012b1a",
   "metadata": {},
   "outputs": [],
   "source": [
    "l.append(20)"
   ]
  },
  {
   "cell_type": "code",
   "execution_count": 20,
   "id": "10f26108-6020-4eee-9b90-a4bda29ab7e7",
   "metadata": {},
   "outputs": [
    {
     "data": {
      "text/plain": [
       "[100, 20, 30, 140, 20]"
      ]
     },
     "execution_count": 20,
     "metadata": {},
     "output_type": "execute_result"
    }
   ],
   "source": [
    "l"
   ]
  },
  {
   "cell_type": "code",
   "execution_count": 21,
   "id": "0bc542d0-8058-4d23-a675-b4bc2c348e2f",
   "metadata": {},
   "outputs": [
    {
     "data": {
      "text/plain": [
       "2"
      ]
     },
     "execution_count": 21,
     "metadata": {},
     "output_type": "execute_result"
    }
   ],
   "source": [
    "l.count(20)"
   ]
  },
  {
   "cell_type": "code",
   "execution_count": 22,
   "id": "11937c4a-7696-4c71-b22e-b9a023c1f151",
   "metadata": {},
   "outputs": [
    {
     "data": {
      "text/plain": [
       "5"
      ]
     },
     "execution_count": 22,
     "metadata": {},
     "output_type": "execute_result"
    }
   ],
   "source": [
    "len(l)"
   ]
  },
  {
   "cell_type": "code",
   "execution_count": 23,
   "id": "dbfd46a1-71c1-4e64-bacc-e14d8fc6ed5d",
   "metadata": {},
   "outputs": [
    {
     "data": {
      "text/plain": [
       "[100, 20, 30, 140]"
      ]
     },
     "execution_count": 23,
     "metadata": {},
     "output_type": "execute_result"
    }
   ],
   "source": [
    "l1"
   ]
  },
  {
   "cell_type": "code",
   "execution_count": 24,
   "id": "bb5ff69f-3e44-4d63-addb-08e7be9c5284",
   "metadata": {},
   "outputs": [],
   "source": [
    "l1.clear()"
   ]
  },
  {
   "cell_type": "code",
   "execution_count": 25,
   "id": "5608f8ea-e63a-4825-9aa1-3eb82046ad80",
   "metadata": {},
   "outputs": [
    {
     "data": {
      "text/plain": [
       "[]"
      ]
     },
     "execution_count": 25,
     "metadata": {},
     "output_type": "execute_result"
    }
   ],
   "source": [
    "l1"
   ]
  },
  {
   "cell_type": "code",
   "execution_count": 26,
   "id": "cd69ac79-4606-430e-85e5-16d1def43db0",
   "metadata": {},
   "outputs": [
    {
     "data": {
      "text/plain": [
       "[100, 20, 30, 140, 20]"
      ]
     },
     "execution_count": 26,
     "metadata": {},
     "output_type": "execute_result"
    }
   ],
   "source": [
    "l"
   ]
  },
  {
   "cell_type": "code",
   "execution_count": 27,
   "id": "f39c1630-eb5f-47f0-be71-4005f014f6ed",
   "metadata": {},
   "outputs": [],
   "source": [
    "del l1   #It is remove from memory location"
   ]
  },
  {
   "cell_type": "code",
   "execution_count": 28,
   "id": "475ea94e-8077-41ab-b295-83c0b4497253",
   "metadata": {},
   "outputs": [
    {
     "ename": "NameError",
     "evalue": "name 'l1' is not defined",
     "output_type": "error",
     "traceback": [
      "\u001b[1;31m---------------------------------------------------------------------------\u001b[0m",
      "\u001b[1;31mNameError\u001b[0m                                 Traceback (most recent call last)",
      "Cell \u001b[1;32mIn[28], line 1\u001b[0m\n\u001b[1;32m----> 1\u001b[0m l1\n",
      "\u001b[1;31mNameError\u001b[0m: name 'l1' is not defined"
     ]
    }
   ],
   "source": [
    "l1"
   ]
  },
  {
   "cell_type": "code",
   "execution_count": 29,
   "id": "c2c6f94e-67e0-4d01-8964-66cdbf97bc7d",
   "metadata": {},
   "outputs": [],
   "source": [
    "l2 = []"
   ]
  },
  {
   "cell_type": "code",
   "execution_count": 30,
   "id": "7a8d9774-83a4-4db7-bfe2-cf7ef409e8b0",
   "metadata": {},
   "outputs": [],
   "source": [
    "l2.append(9)\n",
    "l2.append('ani')\n",
    "l2.append(True)\n",
    "l2.append(2+2j)\n",
    "l2.append(2.0)"
   ]
  },
  {
   "cell_type": "code",
   "execution_count": 31,
   "id": "7e67a4ee-6d6f-433d-a097-1b00c4bdd629",
   "metadata": {},
   "outputs": [
    {
     "data": {
      "text/plain": [
       "[9, 'ani', True, (2+2j), 2.0]"
      ]
     },
     "execution_count": 31,
     "metadata": {},
     "output_type": "execute_result"
    }
   ],
   "source": [
    "l2"
   ]
  },
  {
   "cell_type": "code",
   "execution_count": 35,
   "id": "e7b64208-fb04-44af-8514-f91445ef265e",
   "metadata": {},
   "outputs": [
    {
     "data": {
      "text/plain": [
       "0"
      ]
     },
     "execution_count": 35,
     "metadata": {},
     "output_type": "execute_result"
    }
   ],
   "source": [
    "l2.index(9)  #Using Element get index value "
   ]
  },
  {
   "cell_type": "code",
   "execution_count": 37,
   "id": "58eaad83-0b42-47c4-b8cb-129ce31c1f51",
   "metadata": {},
   "outputs": [
    {
     "data": {
      "text/plain": [
       "4"
      ]
     },
     "execution_count": 37,
     "metadata": {},
     "output_type": "execute_result"
    }
   ],
   "source": [
    "l2.index(2.0)"
   ]
  },
  {
   "cell_type": "code",
   "execution_count": 39,
   "id": "4227a54c-3ce6-400b-993a-9dcba3740235",
   "metadata": {},
   "outputs": [
    {
     "data": {
      "text/plain": [
       "'a'"
      ]
     },
     "execution_count": 39,
     "metadata": {},
     "output_type": "execute_result"
    }
   ],
   "source": [
    "l2[1][0]   #Nested Indexiing"
   ]
  },
  {
   "cell_type": "code",
   "execution_count": 40,
   "id": "72a00e98-e581-4aae-85ad-b549ddc23558",
   "metadata": {},
   "outputs": [
    {
     "data": {
      "text/plain": [
       "'n'"
      ]
     },
     "execution_count": 40,
     "metadata": {},
     "output_type": "execute_result"
    }
   ],
   "source": [
    "l2[1][1]"
   ]
  },
  {
   "cell_type": "code",
   "execution_count": 41,
   "id": "3b4c0dc6-205b-4adb-8dac-8f541f7457b9",
   "metadata": {},
   "outputs": [
    {
     "data": {
      "text/plain": [
       "'i'"
      ]
     },
     "execution_count": 41,
     "metadata": {},
     "output_type": "execute_result"
    }
   ],
   "source": [
    "l2[1][2]"
   ]
  },
  {
   "cell_type": "code",
   "execution_count": 42,
   "id": "e2070ac2-5bd7-4ac9-8b6e-232c8e7499f8",
   "metadata": {},
   "outputs": [
    {
     "ename": "TypeError",
     "evalue": "'bool' object is not subscriptable",
     "output_type": "error",
     "traceback": [
      "\u001b[1;31m---------------------------------------------------------------------------\u001b[0m",
      "\u001b[1;31mTypeError\u001b[0m                                 Traceback (most recent call last)",
      "Cell \u001b[1;32mIn[42], line 1\u001b[0m\n\u001b[1;32m----> 1\u001b[0m l2[\u001b[38;5;241m2\u001b[39m][\u001b[38;5;241m0\u001b[39m]\n",
      "\u001b[1;31mTypeError\u001b[0m: 'bool' object is not subscriptable"
     ]
    }
   ],
   "source": [
    "l2[2][0]"
   ]
  },
  {
   "cell_type": "code",
   "execution_count": 43,
   "id": "3fea35fc-78d7-4503-9c8e-207c79e82606",
   "metadata": {},
   "outputs": [
    {
     "data": {
      "text/plain": [
       "[9, 'ani', True, (2+2j), 2.0]"
      ]
     },
     "execution_count": 43,
     "metadata": {},
     "output_type": "execute_result"
    }
   ],
   "source": [
    "l2[:]"
   ]
  },
  {
   "cell_type": "code",
   "execution_count": 63,
   "id": "11a3d66e-0be2-4f05-bb9d-73fab55a49d0",
   "metadata": {},
   "outputs": [
    {
     "ename": "SyntaxError",
     "evalue": "invalid syntax (3594825766.py, line 1)",
     "output_type": "error",
     "traceback": [
      "\u001b[1;36m  Cell \u001b[1;32mIn[63], line 1\u001b[1;36m\u001b[0m\n\u001b[1;33m    l.[:]\u001b[0m\n\u001b[1;37m      ^\u001b[0m\n\u001b[1;31mSyntaxError\u001b[0m\u001b[1;31m:\u001b[0m invalid syntax\n"
     ]
    }
   ],
   "source": [
    "l[:]"
   ]
  },
  {
   "cell_type": "code",
   "execution_count": 45,
   "id": "e4e71455-8d18-4538-8411-d33747f9f9b6",
   "metadata": {},
   "outputs": [
    {
     "data": {
      "text/plain": [
       "[140, 20]"
      ]
     },
     "execution_count": 45,
     "metadata": {},
     "output_type": "execute_result"
    }
   ],
   "source": [
    "l[3:"
   ]
  },
  {
   "cell_type": "code",
   "execution_count": 47,
   "id": "3f28919a-d21e-426d-baed-b9bba96b650d",
   "metadata": {},
   "outputs": [
    {
     "data": {
      "text/plain": [
       "[100, 20, 30]"
      ]
     },
     "execution_count": 47,
     "metadata": {},
     "output_type": "execute_result"
    }
   ],
   "source": [
    "l[:3]"
   ]
  },
  {
   "cell_type": "code",
   "execution_count": 48,
   "id": "651c6095-0a23-4315-806f-077366eb04de",
   "metadata": {},
   "outputs": [
    {
     "data": {
      "text/plain": [
       "[100, 20, 30, 140, 20]"
      ]
     },
     "execution_count": 48,
     "metadata": {},
     "output_type": "execute_result"
    }
   ],
   "source": [
    "l[:10]"
   ]
  },
  {
   "cell_type": "code",
   "execution_count": 49,
   "id": "9d4ffa5a-1f69-4966-93e1-9d07cc009b5e",
   "metadata": {},
   "outputs": [
    {
     "data": {
      "text/plain": [
       "[100, 30, 20]"
      ]
     },
     "execution_count": 49,
     "metadata": {},
     "output_type": "execute_result"
    }
   ],
   "source": [
    "l[0:6:2]"
   ]
  },
  {
   "cell_type": "code",
   "execution_count": 50,
   "id": "076da2eb-b112-422f-a066-445973bd8f2c",
   "metadata": {},
   "outputs": [
    {
     "data": {
      "text/plain": [
       "['ani', (2+2j)]"
      ]
     },
     "execution_count": 50,
     "metadata": {},
     "output_type": "execute_result"
    }
   ],
   "source": [
    "l2[1:6:2]"
   ]
  },
  {
   "cell_type": "code",
   "execution_count": 52,
   "id": "890f4a40-aafd-4bfb-956b-d3ea89884511",
   "metadata": {},
   "outputs": [],
   "source": [
    "l.insert(2,16)   #Insert into a particular index"
   ]
  },
  {
   "cell_type": "code",
   "execution_count": 53,
   "id": "3729db53-b637-47a8-8a18-d11f74522f41",
   "metadata": {},
   "outputs": [
    {
     "data": {
      "text/plain": [
       "[100, 20, 16, 30, 140, 20]"
      ]
     },
     "execution_count": 53,
     "metadata": {},
     "output_type": "execute_result"
    }
   ],
   "source": [
    "l"
   ]
  },
  {
   "cell_type": "code",
   "execution_count": 54,
   "id": "500cd1e9-ff9c-435e-a4e1-af63b959e2e5",
   "metadata": {},
   "outputs": [
    {
     "data": {
      "text/plain": [
       "20"
      ]
     },
     "execution_count": 54,
     "metadata": {},
     "output_type": "execute_result"
    }
   ],
   "source": [
    "l.pop()  #It will remove at last element and return element"
   ]
  },
  {
   "cell_type": "code",
   "execution_count": 55,
   "id": "0631fac1-3fd8-4574-8ed9-5521e42eadef",
   "metadata": {},
   "outputs": [
    {
     "data": {
      "text/plain": [
       "140"
      ]
     },
     "execution_count": 55,
     "metadata": {},
     "output_type": "execute_result"
    }
   ],
   "source": [
    "l.pop()"
   ]
  },
  {
   "cell_type": "code",
   "execution_count": 56,
   "id": "9e634944-4fa3-4298-a40a-011d335f75f1",
   "metadata": {},
   "outputs": [
    {
     "data": {
      "text/plain": [
       "2.0"
      ]
     },
     "execution_count": 56,
     "metadata": {},
     "output_type": "execute_result"
    }
   ],
   "source": [
    "l2.pop(4) #using index value it remove"
   ]
  },
  {
   "cell_type": "code",
   "execution_count": 57,
   "id": "0dff648f-bf48-46ed-b2ac-980e39d74406",
   "metadata": {},
   "outputs": [],
   "source": [
    "l2.remove(\"ani\")"
   ]
  },
  {
   "cell_type": "code",
   "execution_count": 58,
   "id": "8fc319fd-b2ac-44e2-838e-790008616e60",
   "metadata": {},
   "outputs": [
    {
     "data": {
      "text/plain": [
       "[9, True, (2+2j)]"
      ]
     },
     "execution_count": 58,
     "metadata": {},
     "output_type": "execute_result"
    }
   ],
   "source": [
    "l2"
   ]
  },
  {
   "cell_type": "code",
   "execution_count": 59,
   "id": "cbbdce6e-7c98-45f7-a589-febeabc9c5db",
   "metadata": {},
   "outputs": [],
   "source": [
    "l.reverse()  #Reversr the given list"
   ]
  },
  {
   "cell_type": "code",
   "execution_count": 60,
   "id": "d55c794a-8f4a-483e-be07-524e805b5b21",
   "metadata": {},
   "outputs": [
    {
     "data": {
      "text/plain": [
       "[30, 16, 20, 100]"
      ]
     },
     "execution_count": 60,
     "metadata": {},
     "output_type": "execute_result"
    }
   ],
   "source": [
    "l"
   ]
  },
  {
   "cell_type": "code",
   "execution_count": 61,
   "id": "a90eaefb-d563-495f-a11b-815fb072ba82",
   "metadata": {},
   "outputs": [],
   "source": [
    "l.extend(l2)  #Extended by another list"
   ]
  },
  {
   "cell_type": "code",
   "execution_count": 4,
   "id": "8a061d87-0c9d-4486-9d1f-94bf175c9772",
   "metadata": {},
   "outputs": [
    {
     "ename": "NameError",
     "evalue": "name 'l' is not defined",
     "output_type": "error",
     "traceback": [
      "\u001b[1;31m---------------------------------------------------------------------------\u001b[0m",
      "\u001b[1;31mNameError\u001b[0m                                 Traceback (most recent call last)",
      "Cell \u001b[1;32mIn[4], line 1\u001b[0m\n\u001b[1;32m----> 1\u001b[0m l\n",
      "\u001b[1;31mNameError\u001b[0m: name 'l' is not defined"
     ]
    }
   ],
   "source": [
    "l"
   ]
  },
  {
   "cell_type": "code",
   "execution_count": 64,
   "id": "71e9c882-236e-4b0f-8641-7925e8425dd1",
   "metadata": {},
   "outputs": [
    {
     "data": {
      "text/plain": [
       "[9, True, (2+2j)]"
      ]
     },
     "execution_count": 64,
     "metadata": {},
     "output_type": "execute_result"
    }
   ],
   "source": [
    "l2"
   ]
  },
  {
   "cell_type": "code",
   "execution_count": 3,
   "id": "c0ad4635-296c-4da1-bd5b-6461e86fd0c4",
   "metadata": {},
   "outputs": [
    {
     "ename": "NameError",
     "evalue": "name 'l' is not defined",
     "output_type": "error",
     "traceback": [
      "\u001b[1;31m---------------------------------------------------------------------------\u001b[0m",
      "\u001b[1;31mNameError\u001b[0m                                 Traceback (most recent call last)",
      "Cell \u001b[1;32mIn[3], line 1\u001b[0m\n\u001b[1;32m----> 1\u001b[0m l\n",
      "\u001b[1;31mNameError\u001b[0m: name 'l' is not defined"
     ]
    }
   ],
   "source": [
    "l"
   ]
  },
  {
   "cell_type": "code",
   "execution_count": 5,
   "id": "55fc0fd2-3588-4325-8c26-ff31e0f8804f",
   "metadata": {},
   "outputs": [],
   "source": [
    " l = [10,20,30,40,50,60,]"
   ]
  },
  {
   "cell_type": "code",
   "execution_count": 6,
   "id": "b2615d91-fe85-498f-825c-7b0e3cb950f0",
   "metadata": {},
   "outputs": [
    {
     "data": {
      "text/plain": [
       "[10, 20, 30, 40, 50, 60]"
      ]
     },
     "execution_count": 6,
     "metadata": {},
     "output_type": "execute_result"
    }
   ],
   "source": [
    "l"
   ]
  },
  {
   "cell_type": "markdown",
   "id": "6556e52c-b700-43a3-90ca-807e5ca2d1d1",
   "metadata": {},
   "source": [
    "#Enumerate Function"
   ]
  },
  {
   "cell_type": "code",
   "execution_count": 7,
   "id": "b3dea96d-ee6d-4f52-b3f9-048b1d6bc76b",
   "metadata": {},
   "outputs": [
    {
     "name": "stdout",
     "output_type": "stream",
     "text": [
      "(0, 10)\n",
      "(1, 20)\n",
      "(2, 30)\n",
      "(3, 40)\n",
      "(4, 50)\n",
      "(5, 60)\n"
     ]
    }
   ],
   "source": [
    "for i in enumerate(l):\n",
    "    print(i)"
   ]
  },
  {
   "cell_type": "code",
   "execution_count": 9,
   "id": "4ca390cc-f50a-4f17-a1f1-5599064be2b0",
   "metadata": {},
   "outputs": [
    {
     "data": {
      "text/plain": [
       "False"
      ]
     },
     "execution_count": 9,
     "metadata": {},
     "output_type": "execute_result"
    }
   ],
   "source": [
    "100 in l  #membership "
   ]
  },
  {
   "cell_type": "code",
   "execution_count": 10,
   "id": "64a31dde-ac11-4edd-9a77-9638846575e2",
   "metadata": {},
   "outputs": [
    {
     "data": {
      "text/plain": [
       "True"
      ]
     },
     "execution_count": 10,
     "metadata": {},
     "output_type": "execute_result"
    }
   ],
   "source": [
    "10 in l"
   ]
  },
  {
   "cell_type": "code",
   "execution_count": 11,
   "id": "7756a812-1f2f-4156-9e16-7ac29eb05ee0",
   "metadata": {},
   "outputs": [],
   "source": [
    "l.append(20)"
   ]
  },
  {
   "cell_type": "code",
   "execution_count": 12,
   "id": "1a7bea1f-49bd-45fd-b8c8-c2e891296ee0",
   "metadata": {},
   "outputs": [
    {
     "data": {
      "text/plain": [
       "[10, 20, 30, 40, 50, 60, 20]"
      ]
     },
     "execution_count": 12,
     "metadata": {},
     "output_type": "execute_result"
    }
   ],
   "source": [
    "l"
   ]
  },
  {
   "cell_type": "code",
   "execution_count": 13,
   "id": "44bf2b46-8ce6-4a73-8f27-5a93e313a4c5",
   "metadata": {},
   "outputs": [],
   "source": [
    "l.sort()"
   ]
  },
  {
   "cell_type": "code",
   "execution_count": 14,
   "id": "b16bad80-c37b-4a34-bb85-5fd2fe98402a",
   "metadata": {},
   "outputs": [
    {
     "data": {
      "text/plain": [
       "[10, 20, 20, 30, 40, 50, 60]"
      ]
     },
     "execution_count": 14,
     "metadata": {},
     "output_type": "execute_result"
    }
   ],
   "source": [
    "l"
   ]
  },
  {
   "cell_type": "code",
   "execution_count": 15,
   "id": "0d8b9ffe-d141-4dec-b8fe-a8dd02e9fafe",
   "metadata": {},
   "outputs": [],
   "source": [
    "l.sort(reverse=True)"
   ]
  },
  {
   "cell_type": "code",
   "execution_count": 16,
   "id": "5214405f-fb0b-444e-86d3-fba55e718f55",
   "metadata": {},
   "outputs": [
    {
     "data": {
      "text/plain": [
       "[60, 50, 40, 30, 20, 20, 10]"
      ]
     },
     "execution_count": 16,
     "metadata": {},
     "output_type": "execute_result"
    }
   ],
   "source": [
    "l"
   ]
  },
  {
   "cell_type": "code",
   "execution_count": 19,
   "id": "5e531d8d-b116-48c3-90ab-f2003298de22",
   "metadata": {},
   "outputs": [],
   "source": [
    "l2 = ['a', 'z','e','i']"
   ]
  },
  {
   "cell_type": "code",
   "execution_count": 20,
   "id": "09c8013f-c8e1-42d8-81d1-5e607100cea1",
   "metadata": {},
   "outputs": [
    {
     "data": {
      "text/plain": [
       "['a', 'z', 'e', 'i']"
      ]
     },
     "execution_count": 20,
     "metadata": {},
     "output_type": "execute_result"
    }
   ],
   "source": [
    "l2"
   ]
  },
  {
   "cell_type": "code",
   "execution_count": 21,
   "id": "fb2213fa-ac35-4d63-918b-dfdde913c7a9",
   "metadata": {},
   "outputs": [],
   "source": [
    "l2.s"
   ]
  },
  {
   "cell_type": "code",
   "execution_count": 22,
   "id": "63da1f75-c6dd-48f1-908c-ecd00fa545d3",
   "metadata": {},
   "outputs": [
    {
     "data": {
      "text/plain": [
       "['a', 'e', 'i', 'z']"
      ]
     },
     "execution_count": 22,
     "metadata": {},
     "output_type": "execute_result"
    }
   ],
   "source": [
    "l2"
   ]
  },
  {
   "cell_type": "code",
   "execution_count": 24,
   "id": "2209af24-0145-4cee-80d8-edb9077c3f49",
   "metadata": {},
   "outputs": [],
   "source": [
    "l2.reverse() "
   ]
  },
  {
   "cell_type": "code",
   "execution_count": 26,
   "id": "011e53b1-fd31-4da0-9632-d778859eb000",
   "metadata": {},
   "outputs": [
    {
     "data": {
      "text/plain": [
       "['z', 'i', 'e', 'a']"
      ]
     },
     "execution_count": 26,
     "metadata": {},
     "output_type": "execute_result"
    }
   ],
   "source": [
    "l2"
   ]
  },
  {
   "cell_type": "markdown",
   "id": "1a83579e-2be1-4df3-897a-c221f5b3eb4c",
   "metadata": {},
   "source": [
    "#All and Any"
   ]
  },
  {
   "cell_type": "code",
   "execution_count": 27,
   "id": "3d93fb18-6ac6-4a8c-9215-a6ff36185307",
   "metadata": {},
   "outputs": [
    {
     "data": {
      "text/plain": [
       "True"
      ]
     },
     "execution_count": 27,
     "metadata": {},
     "output_type": "execute_result"
    }
   ],
   "source": [
    "all(l)"
   ]
  },
  {
   "cell_type": "code",
   "execution_count": 29,
   "id": "0c728ed3-8246-4694-bb6a-9ff3138f21e3",
   "metadata": {},
   "outputs": [
    {
     "data": {
      "text/plain": [
       "True"
      ]
     },
     "execution_count": 29,
     "metadata": {},
     "output_type": "execute_result"
    }
   ],
   "source": [
    "all(l2)"
   ]
  },
  {
   "cell_type": "code",
   "execution_count": 28,
   "id": "7ad58f99-b05d-4aba-9416-f7568e72b598",
   "metadata": {},
   "outputs": [
    {
     "data": {
      "text/plain": [
       "True"
      ]
     },
     "execution_count": 28,
     "metadata": {},
     "output_type": "execute_result"
    }
   ],
   "source": [
    "any(l)"
   ]
  },
  {
   "cell_type": "code",
   "execution_count": 30,
   "id": "9a9cb217-c050-4b8c-a2d8-0fe1a6f08cce",
   "metadata": {},
   "outputs": [],
   "source": [
    "l.append(0)"
   ]
  },
  {
   "cell_type": "code",
   "execution_count": 31,
   "id": "58008cf8-735c-4070-bac1-c0087517b094",
   "metadata": {},
   "outputs": [
    {
     "data": {
      "text/plain": [
       "[60, 50, 40, 30, 20, 20, 10, 0]"
      ]
     },
     "execution_count": 31,
     "metadata": {},
     "output_type": "execute_result"
    }
   ],
   "source": [
    "l"
   ]
  },
  {
   "cell_type": "code",
   "execution_count": 32,
   "id": "77971c12-5559-46e9-81e5-c12cbe4a04db",
   "metadata": {},
   "outputs": [
    {
     "data": {
      "text/plain": [
       "False"
      ]
     },
     "execution_count": 32,
     "metadata": {},
     "output_type": "execute_result"
    }
   ],
   "source": [
    "all(l)"
   ]
  },
  {
   "cell_type": "code",
   "execution_count": null,
   "id": "4d4bff66-8010-4e09-85b9-892390306ec6",
   "metadata": {},
   "outputs": [],
   "source": []
  }
 ],
 "metadata": {
  "kernelspec": {
   "display_name": "Python [conda env:base] *",
   "language": "python",
   "name": "conda-base-py"
  },
  "language_info": {
   "codemirror_mode": {
    "name": "ipython",
    "version": 3
   },
   "file_extension": ".py",
   "mimetype": "text/x-python",
   "name": "python",
   "nbconvert_exporter": "python",
   "pygments_lexer": "ipython3",
   "version": "3.12.7"
  }
 },
 "nbformat": 4,
 "nbformat_minor": 5
}
