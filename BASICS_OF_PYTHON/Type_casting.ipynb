{
 "cells": [
  {
   "cell_type": "markdown",
   "id": "1d82d352-3db9-481c-a160-90466571e10e",
   "metadata": {},
   "source": [
    "Type Casting \n",
    "#int\n",
    "#float\n",
    "#string str\n",
    "#complex\n",
    "#bool"
   ]
  },
  {
   "cell_type": "code",
   "execution_count": null,
   "id": "038275e8-3082-41e9-ad8d-2ef5a12961ba",
   "metadata": {},
   "outputs": [],
   "source": [
    "#integer to other datatype"
   ]
  },
  {
   "cell_type": "code",
   "execution_count": 4,
   "id": "9ae183f5-7145-4148-9f05-b1db83518c7a",
   "metadata": {},
   "outputs": [
    {
     "name": "stdout",
     "output_type": "stream",
     "text": [
      "2\n",
      "1\n",
      "0\n",
      "1\n"
     ]
    }
   ],
   "source": [
    "print(int(2.2))\n",
    "print(int(True))\n",
    "print(int(False))\n",
    "print(int('1'))"
   ]
  },
  {
   "cell_type": "code",
   "execution_count": 3,
   "id": "6dc2ef13-5d89-464c-a8af-2927c91753b5",
   "metadata": {},
   "outputs": [
    {
     "ename": "TypeError",
     "evalue": "int() argument must be a string, a bytes-like object or a real number, not 'complex'",
     "output_type": "error",
     "traceback": [
      "\u001b[1;31m---------------------------------------------------------------------------\u001b[0m",
      "\u001b[1;31mTypeError\u001b[0m                                 Traceback (most recent call last)",
      "Cell \u001b[1;32mIn[3], line 1\u001b[0m\n\u001b[1;32m----> 1\u001b[0m \u001b[38;5;28mprint\u001b[39m(\u001b[38;5;28mint\u001b[39m(\u001b[38;5;241m10\u001b[39m\u001b[38;5;241m+\u001b[39m\u001b[38;5;241m2\u001b[39mj))\n",
      "\u001b[1;31mTypeError\u001b[0m: int() argument must be a string, a bytes-like object or a real number, not 'complex'"
     ]
    }
   ],
   "source": [
    "print(int(10+2j))"
   ]
  },
  {
   "cell_type": "code",
   "execution_count": 5,
   "id": "a743a320-7621-47bf-8c09-7a5f4c582eb0",
   "metadata": {},
   "outputs": [
    {
     "ename": "ValueError",
     "evalue": "invalid literal for int() with base 10: 'one'",
     "output_type": "error",
     "traceback": [
      "\u001b[1;31m---------------------------------------------------------------------------\u001b[0m",
      "\u001b[1;31mValueError\u001b[0m                                Traceback (most recent call last)",
      "Cell \u001b[1;32mIn[5], line 1\u001b[0m\n\u001b[1;32m----> 1\u001b[0m \u001b[38;5;28mprint\u001b[39m(\u001b[38;5;28mint\u001b[39m(\u001b[38;5;124m'\u001b[39m\u001b[38;5;124mone\u001b[39m\u001b[38;5;124m'\u001b[39m))\n",
      "\u001b[1;31mValueError\u001b[0m: invalid literal for int() with base 10: 'one'"
     ]
    }
   ],
   "source": [
    "print(int('one'))"
   ]
  },
  {
   "cell_type": "code",
   "execution_count": null,
   "id": "6e1fe899-5ded-47d3-b2a1-504a62b5fe2e",
   "metadata": {},
   "outputs": [],
   "source": [
    "#Float to other datatype."
   ]
  },
  {
   "cell_type": "code",
   "execution_count": 9,
   "id": "696657de-698c-4910-81f5-1d40b69bc298",
   "metadata": {},
   "outputs": [
    {
     "name": "stdout",
     "output_type": "stream",
     "text": [
      "2.0\n",
      "1.0\n"
     ]
    }
   ],
   "source": [
    "print(float(2))\n",
    "print(float('1'))"
   ]
  },
  {
   "cell_type": "code",
   "execution_count": 10,
   "id": "cb27874c-cae0-468a-b006-4193957b0b48",
   "metadata": {},
   "outputs": [
    {
     "ename": "TypeError",
     "evalue": "float() argument must be a string or a real number, not 'complex'",
     "output_type": "error",
     "traceback": [
      "\u001b[1;31m---------------------------------------------------------------------------\u001b[0m",
      "\u001b[1;31mTypeError\u001b[0m                                 Traceback (most recent call last)",
      "Cell \u001b[1;32mIn[10], line 1\u001b[0m\n\u001b[1;32m----> 1\u001b[0m \u001b[38;5;28mprint\u001b[39m(\u001b[38;5;28mfloat\u001b[39m(\u001b[38;5;241m2\u001b[39m\u001b[38;5;241m+\u001b[39m\u001b[38;5;241m10\u001b[39mj))\n",
      "\u001b[1;31mTypeError\u001b[0m: float() argument must be a string or a real number, not 'complex'"
     ]
    }
   ],
   "source": [
    "print(float(2+10j))"
   ]
  },
  {
   "cell_type": "code",
   "execution_count": 12,
   "id": "f0e084c8-736b-4ffa-89e7-58f8610dca7f",
   "metadata": {},
   "outputs": [
    {
     "name": "stdout",
     "output_type": "stream",
     "text": [
      "1.0\n",
      "0.0\n"
     ]
    }
   ],
   "source": [
    "print(float(True))\n",
    "print(float(False))"
   ]
  },
  {
   "cell_type": "markdown",
   "id": "15bf50c6-5d7f-44da-b816-41e9a265fb81",
   "metadata": {},
   "source": [
    "#String to other datatype"
   ]
  },
  {
   "cell_type": "code",
   "execution_count": 20,
   "id": "cd52c413-da0b-4226-a826-36ceb53b779d",
   "metadata": {},
   "outputs": [
    {
     "name": "stdout",
     "output_type": "stream",
     "text": [
      "2\n",
      "2.0\n",
      "4\n",
      "(10+2j)\n",
      "True\n"
     ]
    }
   ],
   "source": [
    "print(str(2))\n",
    "print(str(2.0))\n",
    "print(str('4'))\n",
    "print(str(10+2j))\n",
    "print(str('True'))"
   ]
  },
  {
   "cell_type": "code",
   "execution_count": 22,
   "id": "62528f2b-5e44-4e0c-923d-eaa9167ee517",
   "metadata": {},
   "outputs": [
    {
     "name": "stdout",
     "output_type": "stream",
     "text": [
      "\n"
     ]
    }
   ],
   "source": [
    "print(str( ))"
   ]
  },
  {
   "cell_type": "code",
   "execution_count": 16,
   "id": "13c40574-7f1f-4c83-834c-5bd70e97a654",
   "metadata": {},
   "outputs": [
    {
     "data": {
      "text/plain": [
       "'2'"
      ]
     },
     "execution_count": 16,
     "metadata": {},
     "output_type": "execute_result"
    }
   ],
   "source": [
    "str(2)"
   ]
  },
  {
   "cell_type": "code",
   "execution_count": 23,
   "id": "ea6c573a-8138-4dc8-9cf8-3f190819876f",
   "metadata": {},
   "outputs": [
    {
     "data": {
      "text/plain": [
       "'2.0'"
      ]
     },
     "execution_count": 23,
     "metadata": {},
     "output_type": "execute_result"
    }
   ],
   "source": [
    "str(2.0)"
   ]
  },
  {
   "cell_type": "code",
   "execution_count": 24,
   "id": "53f7c373-f9d3-47df-98a0-e55ba53b8d65",
   "metadata": {},
   "outputs": [
    {
     "data": {
      "text/plain": [
       "'True'"
      ]
     },
     "execution_count": 24,
     "metadata": {},
     "output_type": "execute_result"
    }
   ],
   "source": [
    "str(True)"
   ]
  },
  {
   "cell_type": "code",
   "execution_count": 25,
   "id": "0fe4d99e-b5a7-4600-841d-d7b22676215f",
   "metadata": {},
   "outputs": [
    {
     "data": {
      "text/plain": [
       "'(10+2j)'"
      ]
     },
     "execution_count": 25,
     "metadata": {},
     "output_type": "execute_result"
    }
   ],
   "source": [
    "str(10+2j)"
   ]
  },
  {
   "cell_type": "code",
   "execution_count": 26,
   "id": "1fa3572d-3cb6-4802-a9e4-b5808ebe576d",
   "metadata": {},
   "outputs": [
    {
     "data": {
      "text/plain": [
       "''"
      ]
     },
     "execution_count": 26,
     "metadata": {},
     "output_type": "execute_result"
    }
   ],
   "source": [
    "str()"
   ]
  },
  {
   "cell_type": "code",
   "execution_count": null,
   "id": "e965c5a5-37ba-4760-bee1-6a528ee199a3",
   "metadata": {},
   "outputs": [],
   "source": [
    "#complex to other datatype"
   ]
  },
  {
   "cell_type": "code",
   "execution_count": 27,
   "id": "3388987a-3860-4a8f-9047-d4ff8caf58d3",
   "metadata": {},
   "outputs": [
    {
     "data": {
      "text/plain": [
       "(10+0j)"
      ]
     },
     "execution_count": 27,
     "metadata": {},
     "output_type": "execute_result"
    }
   ],
   "source": [
    "complex(10)"
   ]
  },
  {
   "cell_type": "code",
   "execution_count": 32,
   "id": "c39abee1-8888-47c8-8986-4990fa769d22",
   "metadata": {},
   "outputs": [
    {
     "name": "stdout",
     "output_type": "stream",
     "text": [
      "(10+2j)\n"
     ]
    }
   ],
   "source": [
    "print(complex(10,2))"
   ]
  },
  {
   "cell_type": "code",
   "execution_count": 30,
   "id": "fe901726-a6f5-4b65-b702-55ecec7405a4",
   "metadata": {},
   "outputs": [
    {
     "ename": "TypeError",
     "evalue": "complex() takes at most 2 arguments (3 given)",
     "output_type": "error",
     "traceback": [
      "\u001b[1;31m---------------------------------------------------------------------------\u001b[0m",
      "\u001b[1;31mTypeError\u001b[0m                                 Traceback (most recent call last)",
      "Cell \u001b[1;32mIn[30], line 1\u001b[0m\n\u001b[1;32m----> 1\u001b[0m \u001b[38;5;28mprint\u001b[39m(\u001b[38;5;28mcomplex\u001b[39m(\u001b[38;5;241m10\u001b[39m,\u001b[38;5;241m20\u001b[39m,\u001b[38;5;241m10\u001b[39m))\n",
      "\u001b[1;31mTypeError\u001b[0m: complex() takes at most 2 arguments (3 given)"
     ]
    }
   ],
   "source": [
    "print(complex(10,20,10))"
   ]
  },
  {
   "cell_type": "code",
   "execution_count": 33,
   "id": "e55d9124-0c85-4db0-85d8-fbb4b264de4a",
   "metadata": {},
   "outputs": [
    {
     "name": "stdout",
     "output_type": "stream",
     "text": [
      "(2+3j)\n"
     ]
    }
   ],
   "source": [
    "print(complex(2.0,3.0))"
   ]
  },
  {
   "cell_type": "code",
   "execution_count": 34,
   "id": "173254dd-2798-4610-abd0-da60a7ce3d0e",
   "metadata": {},
   "outputs": [
    {
     "data": {
      "text/plain": [
       "(2+2j)"
      ]
     },
     "execution_count": 34,
     "metadata": {},
     "output_type": "execute_result"
    }
   ],
   "source": [
    "complex(2.0,2.0)"
   ]
  },
  {
   "cell_type": "code",
   "execution_count": 37,
   "id": "c6db09d1-e97f-453e-8a65-03ac76d91ba6",
   "metadata": {},
   "outputs": [
    {
     "name": "stdout",
     "output_type": "stream",
     "text": [
      "(3+2j)\n"
     ]
    }
   ],
   "source": [
    "print(complex(3,2.0))"
   ]
  },
  {
   "cell_type": "code",
   "execution_count": 36,
   "id": "0aa2ca37-f926-4ec4-ade8-db1f8d70b248",
   "metadata": {},
   "outputs": [
    {
     "ename": "TypeError",
     "evalue": "complex() can't take second arg if first is a string",
     "output_type": "error",
     "traceback": [
      "\u001b[1;31m---------------------------------------------------------------------------\u001b[0m",
      "\u001b[1;31mTypeError\u001b[0m                                 Traceback (most recent call last)",
      "Cell \u001b[1;32mIn[36], line 1\u001b[0m\n\u001b[1;32m----> 1\u001b[0m \u001b[38;5;28mprint\u001b[39m(\u001b[38;5;28mcomplex\u001b[39m(\u001b[38;5;124m'\u001b[39m\u001b[38;5;124m1\u001b[39m\u001b[38;5;124m'\u001b[39m,\u001b[38;5;124m'\u001b[39m\u001b[38;5;124m2\u001b[39m\u001b[38;5;124m'\u001b[39m))\n",
      "\u001b[1;31mTypeError\u001b[0m: complex() can't take second arg if first is a string"
     ]
    }
   ],
   "source": [
    "print(complex('1','2'))"
   ]
  },
  {
   "cell_type": "code",
   "execution_count": 35,
   "id": "28ba12d2-fde5-4544-8685-59f3975eca2b",
   "metadata": {},
   "outputs": [
    {
     "ename": "TypeError",
     "evalue": "complex() can't take second arg if first is a string",
     "output_type": "error",
     "traceback": [
      "\u001b[1;31m---------------------------------------------------------------------------\u001b[0m",
      "\u001b[1;31mTypeError\u001b[0m                                 Traceback (most recent call last)",
      "Cell \u001b[1;32mIn[35], line 1\u001b[0m\n\u001b[1;32m----> 1\u001b[0m \u001b[38;5;28mprint\u001b[39m(\u001b[38;5;28mcomplex\u001b[39m(\u001b[38;5;124m'\u001b[39m\u001b[38;5;124m1\u001b[39m\u001b[38;5;124m'\u001b[39m,\u001b[38;5;241m2\u001b[39m))\n",
      "\u001b[1;31mTypeError\u001b[0m: complex() can't take second arg if first is a string"
     ]
    }
   ],
   "source": [
    "print(complex('1',2))"
   ]
  },
  {
   "cell_type": "code",
   "execution_count": 39,
   "id": "f62d22f3-b942-472b-858f-4cb4821e0dd1",
   "metadata": {},
   "outputs": [
    {
     "name": "stdout",
     "output_type": "stream",
     "text": [
      "(1+1j)\n"
     ]
    }
   ],
   "source": [
    "print(complex(True,True))"
   ]
  },
  {
   "cell_type": "code",
   "execution_count": 40,
   "id": "49e58c05-1191-4b3e-8c0d-58a06885c36a",
   "metadata": {},
   "outputs": [
    {
     "name": "stdout",
     "output_type": "stream",
     "text": [
      "1j\n"
     ]
    }
   ],
   "source": [
    "print(complex(False,True))"
   ]
  },
  {
   "cell_type": "code",
   "execution_count": 41,
   "id": "82dc4415-441a-4b33-811a-82fe53947d0f",
   "metadata": {},
   "outputs": [
    {
     "name": "stdout",
     "output_type": "stream",
     "text": [
      "(1+0j)\n"
     ]
    }
   ],
   "source": [
    "print(complex(True,False))"
   ]
  },
  {
   "cell_type": "code",
   "execution_count": 42,
   "id": "41d8a34f-8d09-465f-8e01-8651480723df",
   "metadata": {},
   "outputs": [
    {
     "name": "stdout",
     "output_type": "stream",
     "text": [
      "0j\n"
     ]
    }
   ],
   "source": [
    "print(complex(False,False))"
   ]
  },
  {
   "cell_type": "code",
   "execution_count": null,
   "id": "96327b2e-553d-4c54-b461-d073bab93849",
   "metadata": {},
   "outputs": [],
   "source": [
    "#Boolean To other datatypes"
   ]
  },
  {
   "cell_type": "code",
   "execution_count": 50,
   "id": "d8975204-29ba-493a-904a-ca357cafb5e6",
   "metadata": {},
   "outputs": [
    {
     "name": "stdout",
     "output_type": "stream",
     "text": [
      "True\n",
      "True\n",
      "True\n",
      "True\n",
      "False\n",
      "False\n"
     ]
    }
   ],
   "source": [
    "print(bool(1))\n",
    "print(bool('ab'))\n",
    "print(bool(10+2j))\n",
    "print(bool(2.0))\n",
    "print(bool(0))\n",
    "print(bool())"
   ]
  },
  {
   "cell_type": "code",
   "execution_count": null,
   "id": "0ed8d0f9-e765-496e-ac53-1e5f3b208d1b",
   "metadata": {},
   "outputs": [],
   "source": []
  }
 ],
 "metadata": {
  "kernelspec": {
   "display_name": "Python [conda env:base] *",
   "language": "python",
   "name": "conda-base-py"
  },
  "language_info": {
   "codemirror_mode": {
    "name": "ipython",
    "version": 3
   },
   "file_extension": ".py",
   "mimetype": "text/x-python",
   "name": "python",
   "nbconvert_exporter": "python",
   "pygments_lexer": "ipython3",
   "version": "3.12.7"
  }
 },
 "nbformat": 4,
 "nbformat_minor": 5
}
